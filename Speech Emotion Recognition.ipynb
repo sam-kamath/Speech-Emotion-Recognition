{
 "cells": [
  {
   "cell_type": "code",
   "execution_count": 22,
   "id": "ab17a638",
   "metadata": {},
   "outputs": [],
   "source": [
    "#Importing Required libraries\n",
    "import numpy as np\n",
    "import pandas as pd\n",
    "import os\n",
    "import glob\n",
    "import pickle\n",
    "import librosa\n",
    "import soundfile\n",
    "import warnings\n",
    "warnings.filterwarnings('ignore')"
   ]
  },
  {
   "cell_type": "code",
   "execution_count": 23,
   "id": "cd807103",
   "metadata": {},
   "outputs": [],
   "source": [
    "#Extracting the features mfcc, chroma, and mel from sound files\n",
    "def extract_feature(file_name,mfcc,chroma,mel):\n",
    "    with soundfile.SoundFile(file_name) as sound_file:\n",
    "        X=sound_file.read(dtype=\"float32\")\n",
    "        sample_rate=sound_file.samplerate\n",
    "        if chroma:\n",
    "            stft=np.abs(librosa.stft(X))\n",
    "        result=np.array([])\n",
    "        if mfcc:\n",
    "            mfccs=np.mean(librosa.feature.mfcc(y=X,sr=sample_rate,n_mfcc=40).T,axis=0)\n",
    "        if chroma:\n",
    "            chroma=np.mean(librosa.feature.chroma_stft(S=stft,sr=sample_rate).T,axis=0)\n",
    "            result=np.hstack((result,chroma))\n",
    "        if mel:\n",
    "            mel=np.mean(librosa.feature.melspectrogram(X,sr=sample_rate).T,axis=0)\n",
    "            result=np.hstack((result,mel))\n",
    "        return result"
   ]
  },
  {
   "cell_type": "code",
   "execution_count": 24,
   "id": "765bd103",
   "metadata": {},
   "outputs": [],
   "source": [
    "#Creating Dictionary to connect emotions with numbers\n",
    "emotions={\n",
    "    '01':'neutral',\n",
    "    '02':'calm',\n",
    "    '03':'happy',\n",
    "    '04':'sad',\n",
    "    '05':'angry',\n",
    "    '06':'fearful',\n",
    "    '07':'disgust',\n",
    "    '08':'surprised'\n",
    "}\n",
    "\n",
    "observed_emotions=['calm','happy','fearful','disgust']"
   ]
  },
  {
   "cell_type": "code",
   "execution_count": 25,
   "id": "7c0c0cff",
   "metadata": {},
   "outputs": [],
   "source": [
    "#Extracting features and emotions from individual sound files\n",
    "def load_data(test_size=0.2):\n",
    "    x,y=[],[]\n",
    "    for file in glob.glob('D:\\\\xyz\\\\Personal\\\\Projects\\\\Speech Emotion Recognition\\\\Dataset\\\\Actor_*\\\\*.wav'):\n",
    "        file_name=os.path.basename(file)\n",
    "        emotion=emotions[file_name.split(\"-\")[2]]\n",
    "        if emotion not in observed_emotions:\n",
    "            continue\n",
    "        feature=extract_feature(file,mfcc=True,chroma=True,mel=True)\n",
    "        x.append(feature)\n",
    "        y.append(emotion)\n",
    "    return train_test_split(np.array(x),y,test_size=test_size,random_state=9)"
   ]
  },
  {
   "cell_type": "code",
   "execution_count": 71,
   "id": "8bcbb822",
   "metadata": {},
   "outputs": [],
   "source": [
    "#Splitting dataset into Train and Test set\n",
    "from sklearn.model_selection import train_test_split\n",
    "x_train,x_test,y_train,y_test=load_data(test_size=0.25)"
   ]
  },
  {
   "cell_type": "code",
   "execution_count": 72,
   "id": "1d8ec27b",
   "metadata": {},
   "outputs": [
    {
     "name": "stdout",
     "output_type": "stream",
     "text": [
      "(576, 192)\n"
     ]
    }
   ],
   "source": [
    "#Checking shape of Train and Test set\n",
    "print((x_train.shape[0],x_test.shape[0]))"
   ]
  },
  {
   "cell_type": "code",
   "execution_count": 73,
   "id": "14771778",
   "metadata": {},
   "outputs": [
    {
     "name": "stdout",
     "output_type": "stream",
     "text": [
      "Features extracted: 140\n"
     ]
    }
   ],
   "source": [
    "#Getting number of features extracted\n",
    "print(f'Features extracted: {x_train.shape[1]}')"
   ]
  },
  {
   "cell_type": "code",
   "execution_count": 74,
   "id": "c4f14c44",
   "metadata": {},
   "outputs": [],
   "source": [
    "#Initializing MLF Classifier\n",
    "from sklearn.neural_network import MLPClassifier\n",
    "clf=MLPClassifier(alpha=0.01,batch_size=256,epsilon=1e-08,hidden_layer_sizes=(300,),learning_rate='adaptive',max_iter=500)"
   ]
  },
  {
   "cell_type": "code",
   "execution_count": 75,
   "id": "3be37f7c",
   "metadata": {},
   "outputs": [
    {
     "data": {
      "text/plain": [
       "MLPClassifier(alpha=0.01, batch_size=256, hidden_layer_sizes=(300,),\n",
       "              learning_rate='adaptive', max_iter=500)"
      ]
     },
     "execution_count": 75,
     "metadata": {},
     "output_type": "execute_result"
    }
   ],
   "source": [
    "#Training our model using Train set\n",
    "clf.fit(x_train,y_train)"
   ]
  },
  {
   "cell_type": "code",
   "execution_count": 76,
   "id": "691dcd01",
   "metadata": {},
   "outputs": [],
   "source": [
    "#Predicting on Test set\n",
    "y_pred=clf.predict(x_test)"
   ]
  },
  {
   "cell_type": "code",
   "execution_count": 77,
   "id": "cc232428",
   "metadata": {},
   "outputs": [
    {
     "name": "stdout",
     "output_type": "stream",
     "text": [
      "Accuracy Score: 54.69%\n"
     ]
    }
   ],
   "source": [
    "#Calculating accuacy score of our model\n",
    "from sklearn.metrics import accuracy_score\n",
    "ascore=accuracy_score(y_test,y_pred)\n",
    "print(\"Accuracy Score: {:.2f}%\".format(ascore*100))"
   ]
  },
  {
   "cell_type": "code",
   "execution_count": 78,
   "id": "0b99dabf",
   "metadata": {},
   "outputs": [
    {
     "name": "stdout",
     "output_type": "stream",
     "text": [
      "              precision    recall  f1-score   support\n",
      "\n",
      "        calm       0.79      0.81      0.80        57\n",
      "     disgust       0.39      0.42      0.40        48\n",
      "     fearful       0.42      0.49      0.45        37\n",
      "       happy       0.53      0.42      0.47        50\n",
      "\n",
      "    accuracy                           0.55       192\n",
      "   macro avg       0.53      0.53      0.53       192\n",
      "weighted avg       0.55      0.55      0.55       192\n",
      "\n"
     ]
    }
   ],
   "source": [
    "#Creating Classification report for our model\n",
    "from sklearn.metrics import classification_report\n",
    "cr=classification_report(y_test,y_pred)\n",
    "print(cr)"
   ]
  }
 ],
 "metadata": {
  "kernelspec": {
   "display_name": "Python 3 (ipykernel)",
   "language": "python",
   "name": "python3"
  },
  "language_info": {
   "codemirror_mode": {
    "name": "ipython",
    "version": 3
   },
   "file_extension": ".py",
   "mimetype": "text/x-python",
   "name": "python",
   "nbconvert_exporter": "python",
   "pygments_lexer": "ipython3",
   "version": "3.10.0"
  }
 },
 "nbformat": 4,
 "nbformat_minor": 5
}
